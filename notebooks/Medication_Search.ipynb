{
 "cells": [
  {
   "cell_type": "code",
   "execution_count": 4,
   "metadata": {},
   "outputs": [],
   "source": [
    "from RxNorm_API import RxNorm\n",
    "import pandas as pd\n",
    "from IPython.display import clear_output\n",
    "import numpy as np\n",
    "import math"
   ]
  },
  {
   "cell_type": "code",
   "execution_count": 5,
   "metadata": {},
   "outputs": [
    {
     "data": {
      "text/html": [
       "<div>\n",
       "<style scoped>\n",
       "    .dataframe tbody tr th:only-of-type {\n",
       "        vertical-align: middle;\n",
       "    }\n",
       "\n",
       "    .dataframe tbody tr th {\n",
       "        vertical-align: top;\n",
       "    }\n",
       "\n",
       "    .dataframe thead th {\n",
       "        text-align: right;\n",
       "    }\n",
       "</style>\n",
       "<table border=\"1\" class=\"dataframe\">\n",
       "  <thead>\n",
       "    <tr style=\"text-align: right;\">\n",
       "      <th></th>\n",
       "      <th>ORDER_MNEM_TXT</th>\n",
       "    </tr>\n",
       "  </thead>\n",
       "  <tbody>\n",
       "    <tr>\n",
       "      <th>0</th>\n",
       "      <td>paracetamol</td>\n",
       "    </tr>\n",
       "    <tr>\n",
       "      <th>1</th>\n",
       "      <td>midazolam</td>\n",
       "    </tr>\n",
       "    <tr>\n",
       "      <th>2</th>\n",
       "      <td>ondansetron</td>\n",
       "    </tr>\n",
       "    <tr>\n",
       "      <th>3</th>\n",
       "      <td>sodium chloride 0.9% intravenous solution 500 ...</td>\n",
       "    </tr>\n",
       "    <tr>\n",
       "      <th>4</th>\n",
       "      <td>glyceryl trinitrate</td>\n",
       "    </tr>\n",
       "  </tbody>\n",
       "</table>\n",
       "</div>"
      ],
      "text/plain": [
       "                                      ORDER_MNEM_TXT\n",
       "0                                        paracetamol\n",
       "1                                          midazolam\n",
       "2                                        ondansetron\n",
       "3  sodium chloride 0.9% intravenous solution 500 ...\n",
       "4                                glyceryl trinitrate"
      ]
     },
     "execution_count": 5,
     "metadata": {},
     "output_type": "execute_result"
    }
   ],
   "source": [
    "df = pd.read_csv(r'C:\\Users\\houstonan\\Documents\\Projects\\RxNorm_Mapping\\data\\raw\\pseudo_medications.csv')\n",
    "df.head()"
   ]
  },
  {
   "cell_type": "markdown",
   "metadata": {},
   "source": [
    "**Preprocessing**"
   ]
  },
  {
   "cell_type": "code",
   "execution_count": 6,
   "metadata": {},
   "outputs": [
    {
     "data": {
      "text/html": [
       "<div>\n",
       "<style scoped>\n",
       "    .dataframe tbody tr th:only-of-type {\n",
       "        vertical-align: middle;\n",
       "    }\n",
       "\n",
       "    .dataframe tbody tr th {\n",
       "        vertical-align: top;\n",
       "    }\n",
       "\n",
       "    .dataframe thead th {\n",
       "        text-align: right;\n",
       "    }\n",
       "</style>\n",
       "<table border=\"1\" class=\"dataframe\">\n",
       "  <thead>\n",
       "    <tr style=\"text-align: right;\">\n",
       "      <th></th>\n",
       "      <th>ORDER_MNEM_TXT</th>\n",
       "    </tr>\n",
       "  </thead>\n",
       "  <tbody>\n",
       "    <tr>\n",
       "      <th>0</th>\n",
       "      <td>paracetamol</td>\n",
       "    </tr>\n",
       "    <tr>\n",
       "      <th>1</th>\n",
       "      <td>midazolam</td>\n",
       "    </tr>\n",
       "    <tr>\n",
       "      <th>2</th>\n",
       "      <td>ondansetron</td>\n",
       "    </tr>\n",
       "    <tr>\n",
       "      <th>3</th>\n",
       "      <td>sodium chloride</td>\n",
       "    </tr>\n",
       "    <tr>\n",
       "      <th>4</th>\n",
       "      <td>glyceryl trinitrate</td>\n",
       "    </tr>\n",
       "  </tbody>\n",
       "</table>\n",
       "</div>"
      ],
      "text/plain": [
       "         ORDER_MNEM_TXT\n",
       "0           paracetamol\n",
       "1             midazolam\n",
       "2           ondansetron\n",
       "3  sodium chloride     \n",
       "4   glyceryl trinitrate"
      ]
     },
     "execution_count": 6,
     "metadata": {},
     "output_type": "execute_result"
    }
   ],
   "source": [
    "# De-capitalise\n",
    "\n",
    "df['ORDER_MNEM_TXT'] = df['ORDER_MNEM_TXT'].str.lower()\n",
    "\n",
    "# Removing unwanted terms\n",
    "replace = '|'.join(['\\d+',\n",
    "    'ml',\n",
    "    'mg' ,\n",
    "    'intravenous',\n",
    "    'solution',\n",
    "    '[\\(\\[].*?[\\)\\]]',\n",
    "    'syringe driver -',\n",
    "    'injection',\n",
    "    '\\.',\n",
    "    '\\%',\n",
    "    'infusion',\n",
    "    'topical'])\n",
    "\n",
    "df['ORDER_MNEM_TXT'] = df['ORDER_MNEM_TXT'].str.replace(replace,'', regex=True)\n",
    "df = df.drop_duplicates(subset='ORDER_MNEM_TXT', keep=\"first\")\n",
    "df.head(5)"
   ]
  },
  {
   "cell_type": "code",
   "execution_count": 7,
   "metadata": {},
   "outputs": [],
   "source": [
    "df.to_csv('Processed_Medications.csv', index=None)"
   ]
  },
  {
   "cell_type": "markdown",
   "metadata": {},
   "source": [
    "**Mapping**"
   ]
  },
  {
   "cell_type": "code",
   "execution_count": 7,
   "metadata": {},
   "outputs": [],
   "source": [
    "medications_df = pd.DataFrame(columns = ['input_term','Name','rxcui','SNOMEDCT','MMSL'])\n",
    "for value in df['ORDER_MNEM_TXT']:\n",
    "    rxnorm = RxNorm()\n",
    "\n",
    "    names_ = []\n",
    "    rxcui_ = []\n",
    "    snomed_ = []\n",
    "    mmsl_ = []\n",
    "\n",
    "    for concept in value.split('+'):\n",
    "\n",
    "        term = concept\n",
    "        \n",
    "        print('Mapping: ' + term)\n",
    "        \n",
    "        rxcui = rxnorm.approximate_term(term = term, timeout=5)\n",
    "\n",
    "        if isinstance(rxcui,list):\n",
    "            i=0\n",
    "            while i < len(rxcui):\n",
    "                snomed, mmsl = rxnorm.get_codes(rxcui = rxcui[i], timeout=5)\n",
    "\n",
    "                if (snomed == 'NULL') & (mmsl == 'NULL'):\n",
    "                    selected_rxcui = 'NULL'\n",
    "                    i+=1\n",
    "                else:\n",
    "                    selected_rxcui = rxcui[i]\n",
    "                    a=i\n",
    "                    i=len(rxcui)\n",
    "        else:\n",
    "            selected_rxcui = rxcui\n",
    "\n",
    "        if selected_rxcui == 'NULL':\n",
    "            names_.append('NULL')\n",
    "            rxcui_.append(selected_rxcui)\n",
    "            snomed_.append('NULL')\n",
    "            mmsl_.append('NULL')\n",
    "        else:\n",
    "            if a != 0:\n",
    "                ingredient_rxcui = rxnorm.primary_ingredient(rxcui = selected_rxcui, timeout=5)\n",
    "                if ingredient_rxcui == 'NULL':\n",
    "                    names = rxnorm.get_names(rxcui = selected_rxcui, timeout=5)\n",
    "                    rxcui_.append(selected_rxcui)\n",
    "                else:\n",
    "                    names_.append(rxnorm.get_names(rxcui = ingredient_rxcui, timeout=5))\n",
    "                    rxcui_.append(ingredient_rxcui)\n",
    "                    snomed, mmsl = rxnorm.get_codes(rxcui = ingredient_rxcui, timeout=5)\n",
    "                    \n",
    "            else:\n",
    "                names_.append(rxnorm.get_names(rxcui = selected_rxcui, timeout=5))\n",
    "                rxcui_.append(selected_rxcui)\n",
    "            \n",
    "            snomed_.append(snomed)\n",
    "            mmsl_.append(mmsl)\n",
    "\n",
    "\n",
    "    codes = pd.DataFrame(data = np.array([value, ', '.join(names_), ', '.join(rxcui_),', '.join(snomed_), ', '.join(mmsl_)]).reshape(1,-1), \n",
    "        columns = ['input_term','Name','rxcui','SNOMEDCT','MMSL'])\n",
    "    medications_df = medications_df.append(codes, ignore_index=True)\n",
    "\n",
    "    clear_output()"
   ]
  },
  {
   "cell_type": "code",
   "execution_count": 45,
   "metadata": {},
   "outputs": [
    {
     "name": "stdout",
     "output_type": "stream",
     "text": [
      "Missing (%):  12.7\n"
     ]
    }
   ],
   "source": [
    "print('Missing (%): ', (medications_df[\"input_term\"][medications_df[\"rxcui\"]=='NULL'].count()/medications_df[\"input_term\"].count()).round(3)*100)"
   ]
  },
  {
   "cell_type": "code",
   "execution_count": 46,
   "metadata": {},
   "outputs": [],
   "source": [
    "medications_df.to_csv('Medication_Post_Mapping.csv', index = False)"
   ]
  },
  {
   "cell_type": "markdown",
   "metadata": {},
   "source": [
    "## Comparison with SNAPPER"
   ]
  },
  {
   "cell_type": "code",
   "execution_count": 2,
   "metadata": {},
   "outputs": [],
   "source": [
    "RxNorm_df = pd.read_csv(r'C:\\Users\\houstonan\\Documents\\Projects\\RxNorm_Mapping\\data\\processed\\RxNorm_Mapping.csv')\n",
    "SNAPPER_df = pd.read_csv(r'C:\\Users\\houstonan\\Documents\\Projects\\RxNorm_Mapping\\data\\processed\\Snapper_Mapping.csv')"
   ]
  },
  {
   "cell_type": "markdown",
   "metadata": {},
   "source": [
    "Check if SNAPPER SNOMED code is contained within RxNorm SNOMED codes"
   ]
  },
  {
   "cell_type": "code",
   "execution_count": 5,
   "metadata": {},
   "outputs": [
    {
     "name": "stdout",
     "output_type": "stream",
     "text": [
      "Comparable Mappings (%):  88.0\n"
     ]
    }
   ],
   "source": [
    "comparable_mapping = []\n",
    "for i in range(RxNorm_df.shape[0]):\n",
    "    if isinstance(RxNorm_df.loc[i]['SNOMEDCT'], str):\n",
    "        if math.isnan(SNAPPER_df['Snapper_Snomed'][i]) == False:\n",
    "            if str(int(round(SNAPPER_df['Snapper_Snomed'])[i])) in RxNorm_df.loc[i]['SNOMEDCT']:\n",
    "                comparable_mapping.append(1)\n",
    "            else:\n",
    "                comparable_mapping.append(0)\n",
    "        else:\n",
    "            comparable_mapping.append(-1)\n",
    "    else: \n",
    "        if math.isnan(SNAPPER_df['Snapper_Snomed'][i]) == False:\n",
    "            comparable_mapping.append(-2)\n",
    "        else:\n",
    "            comparable_mapping.append(-3)\n",
    "\n",
    "print(\"Comparable Mappings (%): \", np.round((comparable_mapping.count(1)/(comparable_mapping.count(1)+comparable_mapping.count(0)))*100))"
   ]
  },
  {
   "cell_type": "markdown",
   "metadata": {},
   "source": [
    "If mapping is the same take the RxNorm codes, if not, take the SNOMED codes. If one mapping system can't find a concept, take the one that can. If neither can, return NULL."
   ]
  },
  {
   "cell_type": "code",
   "execution_count": null,
   "metadata": {},
   "outputs": [],
   "source": [
    "merged_mappings = pd.DataFrame(columns=['input_term', 'retrieved_term', 'SNOMED_Code'])\n",
    "\n",
    "for i in range(len(comparable_mapping)):\n",
    "    input_term = RxNorm_df['input_term'].loc[i]\n",
    "    if comparable_mapping[i] == 1 or comparable_mapping[i] == -1:\n",
    "        retrieved_term = RxNorm_df['Name'].loc[i]\n",
    "        SNOMED_Code = RxNorm_df['SNOMEDCT'].loc[i]\n",
    "\n",
    "    if comparable_mapping[i] == 0 or comparable_mapping[i] == -2:\n",
    "        retrieved_term = SNAPPER_df['Snapper_Mapping'].loc[i]\n",
    "        SNOMED_Code = str(int(round(SNAPPER_df['Snapper_Snomed'].loc[i])))\n",
    "\n",
    "    if comparable_mapping[i] == -3:\n",
    "        retrieved_term = 'NULL'\n",
    "        SNOMED_Code = 'NULL'\n",
    "\n",
    "    merged_mappings = merged_mappings.append(pd.DataFrame(data=np.array([input_term,retrieved_term,SNOMED_Code]).reshape(1,-1), columns = ['input_term', 'retrieved_term', 'SNOMED_Code']))\n",
    "merged_mappings = merged_mappings.reset_index(drop=True)"
   ]
  },
  {
   "cell_type": "code",
   "execution_count": 7,
   "metadata": {},
   "outputs": [
    {
     "name": "stdout",
     "output_type": "stream",
     "text": [
      "Remaining Missing (%):  2.66\n"
     ]
    }
   ],
   "source": [
    "print('Remaining Missing (%): ', round(((merged_mappings['SNOMED_Code'] == 'NULL').sum()/merged_mappings.shape[0])*100,2))"
   ]
  },
  {
   "cell_type": "code",
   "execution_count": 8,
   "metadata": {},
   "outputs": [
    {
     "data": {
      "text/html": [
       "<div>\n",
       "<style scoped>\n",
       "    .dataframe tbody tr th:only-of-type {\n",
       "        vertical-align: middle;\n",
       "    }\n",
       "\n",
       "    .dataframe tbody tr th {\n",
       "        vertical-align: top;\n",
       "    }\n",
       "\n",
       "    .dataframe thead th {\n",
       "        text-align: right;\n",
       "    }\n",
       "</style>\n",
       "<table border=\"1\" class=\"dataframe\">\n",
       "  <thead>\n",
       "    <tr style=\"text-align: right;\">\n",
       "      <th></th>\n",
       "      <th>input_term</th>\n",
       "      <th>retrieved_term</th>\n",
       "      <th>SNOMED_Code</th>\n",
       "    </tr>\n",
       "  </thead>\n",
       "  <tbody>\n",
       "    <tr>\n",
       "      <th>0</th>\n",
       "      <td>paracetamol</td>\n",
       "      <td>acetaminophen</td>\n",
       "      <td>387517004, 90332006</td>\n",
       "    </tr>\n",
       "    <tr>\n",
       "      <th>1</th>\n",
       "      <td>midazolam</td>\n",
       "      <td>midazolam</td>\n",
       "      <td>26800000, 373476007</td>\n",
       "    </tr>\n",
       "    <tr>\n",
       "      <th>2</th>\n",
       "      <td>ondansetron</td>\n",
       "      <td>ondansetron</td>\n",
       "      <td>108418007, 372487007</td>\n",
       "    </tr>\n",
       "    <tr>\n",
       "      <th>3</th>\n",
       "      <td>sodium chloride</td>\n",
       "      <td>sodium chloride</td>\n",
       "      <td>387390002, 70379000, 786818003</td>\n",
       "    </tr>\n",
       "    <tr>\n",
       "      <th>4</th>\n",
       "      <td>glyceryl trinitrate</td>\n",
       "      <td>nitroglycerin</td>\n",
       "      <td>387404004, 71759000</td>\n",
       "    </tr>\n",
       "    <tr>\n",
       "      <th>5</th>\n",
       "      <td>heparin</td>\n",
       "      <td>heparin</td>\n",
       "      <td>372877000, 84812008</td>\n",
       "    </tr>\n",
       "    <tr>\n",
       "      <th>6</th>\n",
       "      <td>isosorbide dinitrate</td>\n",
       "      <td>isosorbide dinitrate</td>\n",
       "      <td>387332007</td>\n",
       "    </tr>\n",
       "    <tr>\n",
       "      <th>7</th>\n",
       "      <td>metaraminol</td>\n",
       "      <td>metaraminol</td>\n",
       "      <td>372728001, 41015006</td>\n",
       "    </tr>\n",
       "    <tr>\n",
       "      <th>8</th>\n",
       "      <td>morphine</td>\n",
       "      <td>morphine</td>\n",
       "      <td>373529000, 73572009</td>\n",
       "    </tr>\n",
       "    <tr>\n",
       "      <th>9</th>\n",
       "      <td>compound sodium lactate</td>\n",
       "      <td>sodium lactate</td>\n",
       "      <td>387306001, 55015008</td>\n",
       "    </tr>\n",
       "  </tbody>\n",
       "</table>\n",
       "</div>"
      ],
      "text/plain": [
       "                  input_term        retrieved_term  \\\n",
       "0                paracetamol         acetaminophen   \n",
       "1                  midazolam             midazolam   \n",
       "2                ondansetron           ondansetron   \n",
       "3       sodium chloride            sodium chloride   \n",
       "4        glyceryl trinitrate         nitroglycerin   \n",
       "5                    heparin               heparin   \n",
       "6       isosorbide dinitrate  isosorbide dinitrate   \n",
       "7                metaraminol           metaraminol   \n",
       "8                   morphine              morphine   \n",
       "9  compound sodium lactate          sodium lactate   \n",
       "\n",
       "                      SNOMED_Code  \n",
       "0             387517004, 90332006  \n",
       "1             26800000, 373476007  \n",
       "2            108418007, 372487007  \n",
       "3  387390002, 70379000, 786818003  \n",
       "4             387404004, 71759000  \n",
       "5             372877000, 84812008  \n",
       "6                       387332007  \n",
       "7             372728001, 41015006  \n",
       "8             373529000, 73572009  \n",
       "9             387306001, 55015008  "
      ]
     },
     "execution_count": 8,
     "metadata": {},
     "output_type": "execute_result"
    }
   ],
   "source": [
    "merged_mappings.head(10)"
   ]
  },
  {
   "cell_type": "markdown",
   "metadata": {},
   "source": [
    "Input terms neither mapping system can find"
   ]
  },
  {
   "cell_type": "code",
   "execution_count": 9,
   "metadata": {},
   "outputs": [
    {
     "name": "stdout",
     "output_type": "stream",
     "text": [
      "freetext medication\n",
      "compliance aid\n",
      "ocular lubricant\n",
      "mechanical prophylaxis\n",
      "discharge medication approved\n",
      "bicarbonate dialysate \n",
      "prothrombin complex\n",
      "freetext medication \n",
      "fresubin  kcal bottle\n",
      "benzalkonium/dimeticone/hc/nystatin top\n",
      "energy dense snack\n",
      "energy dense snacks\n",
      "larvae therapy\n",
      "ed snack\n",
      "ranibizumab ophthalmic\n",
      "aerochamber\n",
      "nourishing snack\n",
      "flaminal hydro\n",
      "insulin pump therapy placeholder\n",
      "bedtime snacks\n",
      "dextroenergy\n",
      "volumatic\n",
      "trace elements\n",
      "dexamethasone/framycetin/gramicid ophth\n"
     ]
    }
   ],
   "source": [
    "for i in range(merged_mappings.shape[0]):\n",
    "    if merged_mappings['retrieved_term'].loc[i] == 'NULL':\n",
    "        print(merged_mappings['input_term'].loc[i])"
   ]
  }
 ],
 "metadata": {
  "kernelspec": {
   "display_name": "RxNorm",
   "language": "python",
   "name": "rxnorm"
  },
  "language_info": {
   "codemirror_mode": {
    "name": "ipython",
    "version": 3
   },
   "file_extension": ".py",
   "mimetype": "text/x-python",
   "name": "python",
   "nbconvert_exporter": "python",
   "pygments_lexer": "ipython3",
   "version": "3.10.4"
  },
  "orig_nbformat": 4,
  "vscode": {
   "interpreter": {
    "hash": "d38ecb469a13417f6f347535f14488ce30a44b6d85c4856989098a831f9222ff"
   }
  }
 },
 "nbformat": 4,
 "nbformat_minor": 2
}
